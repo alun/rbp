{
 "cells": [
  {
   "cell_type": "code",
   "execution_count": 53,
   "source": [
    "# pip install --user pandas numpy datetime scipy pandas_datareader yfinance\n",
    "\n",
    "import pandas as pd\n",
    "import datetime\n",
    "import rpar\n"
   ],
   "outputs": [],
   "metadata": {}
  },
  {
   "cell_type": "code",
   "execution_count": 54,
   "source": [
    "# date range used for calculations\n",
    "start_date = datetime.datetime(2018, 4, 17)\n",
    "end_date = datetime.datetime(2021, 7, 24)\n",
    "\n",
    "# set up symbols that we like in our portfolio + min trading lot for each symbol\n",
    "yahoo_tickers = ['MAGN.ME','FIVE.ME','MTSS.ME','MRKP.ME','OGKB.ME','SNGSP.ME']\n",
    "min_lots = pd.DataFrame([1, 1, 10, 10000, 1000, 100], yahoo_tickers).T.iloc[0]\n",
    "\n",
    "# yahoo_tickers = ['AMZN', 'FB', 'RPAR']\n",
    "# min_lots = pd.DataFrame([1, 1, 1], yahoo_tickers).T.iloc[0]\n",
    "\n",
    "# yahoo_tickers = ['MAGN.ME']\n",
    "# min_lots = pd.DataFrame([1], yahoo_tickers).T.iloc[0]\n",
    "\n",
    "prices = rpar.get_prices(yahoo_tickers, start_date, end_date)\n",
    "\n",
    "weights = rpar.get_weights(prices)\n",
    "\n",
    "capital = 300000\n",
    "assets = (capital * weights / prices.iloc[-1]).floordiv(min_lots)\n",
    "\n",
    "invested = assets * min_lots * prices.iloc[-1]\n",
    "residual = capital - invested.sum()"
   ],
   "outputs": [
    {
     "output_type": "stream",
     "name": "stdout",
     "text": [
      "[*********************100%***********************]  6 of 6 completed\n"
     ]
    }
   ],
   "metadata": {}
  },
  {
   "cell_type": "code",
   "execution_count": 55,
   "source": [
    "weights"
   ],
   "outputs": [
    {
     "output_type": "execute_result",
     "data": {
      "text/plain": [
       "MAGN.ME     0.148613\n",
       "FIVE.ME     0.127455\n",
       "MTSS.ME     0.198454\n",
       "MRKP.ME     0.152057\n",
       "OGKB.ME     0.122507\n",
       "SNGSP.ME    0.250915\n",
       "Name: weight, dtype: float64"
      ]
     },
     "metadata": {},
     "execution_count": 55
    }
   ],
   "metadata": {}
  },
  {
   "cell_type": "code",
   "execution_count": 56,
   "source": [
    "assets"
   ],
   "outputs": [
    {
     "output_type": "execute_result",
     "data": {
      "text/plain": [
       "MAGN.ME     714.0\n",
       "FIVE.ME      15.0\n",
       "MTSS.ME      20.0\n",
       "MRKP.ME      19.0\n",
       "OGKB.ME      50.0\n",
       "SNGSP.ME     20.0\n",
       "dtype: float64"
      ]
     },
     "metadata": {},
     "execution_count": 56
    }
   ],
   "metadata": {}
  },
  {
   "cell_type": "code",
   "execution_count": 57,
   "source": [
    "invested"
   ],
   "outputs": [
    {
     "output_type": "execute_result",
     "data": {
      "text/plain": [
       "MAGN.ME     44545.430008\n",
       "FIVE.ME     35953.176270\n",
       "MTSS.ME     58403.460693\n",
       "MRKP.ME     43556.681573\n",
       "OGKB.ME     36247.369647\n",
       "SNGSP.ME    72449.851990\n",
       "dtype: float64"
      ]
     },
     "metadata": {},
     "execution_count": 57
    }
   ],
   "metadata": {}
  },
  {
   "cell_type": "code",
   "execution_count": 58,
   "source": [
    "residual"
   ],
   "outputs": [
    {
     "output_type": "execute_result",
     "data": {
      "text/plain": [
       "8844.029819011688"
      ]
     },
     "metadata": {},
     "execution_count": 58
    }
   ],
   "metadata": {}
  },
  {
   "cell_type": "code",
   "execution_count": 59,
   "source": [
    "pd.DataFrame(invested).sort_values(0, ascending=False)"
   ],
   "outputs": [
    {
     "output_type": "execute_result",
     "data": {
      "text/plain": [
       "                     0\n",
       "SNGSP.ME  72449.851990\n",
       "MTSS.ME   58403.460693\n",
       "MAGN.ME   44545.430008\n",
       "MRKP.ME   43556.681573\n",
       "OGKB.ME   36247.369647\n",
       "FIVE.ME   35953.176270"
      ],
      "text/html": [
       "<div>\n",
       "<style scoped>\n",
       "    .dataframe tbody tr th:only-of-type {\n",
       "        vertical-align: middle;\n",
       "    }\n",
       "\n",
       "    .dataframe tbody tr th {\n",
       "        vertical-align: top;\n",
       "    }\n",
       "\n",
       "    .dataframe thead th {\n",
       "        text-align: right;\n",
       "    }\n",
       "</style>\n",
       "<table border=\"1\" class=\"dataframe\">\n",
       "  <thead>\n",
       "    <tr style=\"text-align: right;\">\n",
       "      <th></th>\n",
       "      <th>0</th>\n",
       "    </tr>\n",
       "  </thead>\n",
       "  <tbody>\n",
       "    <tr>\n",
       "      <th>SNGSP.ME</th>\n",
       "      <td>72449.851990</td>\n",
       "    </tr>\n",
       "    <tr>\n",
       "      <th>MTSS.ME</th>\n",
       "      <td>58403.460693</td>\n",
       "    </tr>\n",
       "    <tr>\n",
       "      <th>MAGN.ME</th>\n",
       "      <td>44545.430008</td>\n",
       "    </tr>\n",
       "    <tr>\n",
       "      <th>MRKP.ME</th>\n",
       "      <td>43556.681573</td>\n",
       "    </tr>\n",
       "    <tr>\n",
       "      <th>OGKB.ME</th>\n",
       "      <td>36247.369647</td>\n",
       "    </tr>\n",
       "    <tr>\n",
       "      <th>FIVE.ME</th>\n",
       "      <td>35953.176270</td>\n",
       "    </tr>\n",
       "  </tbody>\n",
       "</table>\n",
       "</div>"
      ]
     },
     "metadata": {},
     "execution_count": 59
    }
   ],
   "metadata": {}
  }
 ],
 "metadata": {
  "kernelspec": {
   "name": "python3",
   "display_name": "Python 3.7.6 64-bit ('base': conda)"
  },
  "language_info": {
   "codemirror_mode": {
    "name": "ipython",
    "version": 3
   },
   "file_extension": ".py",
   "mimetype": "text/x-python",
   "name": "python",
   "nbconvert_exporter": "python",
   "pygments_lexer": "ipython3",
   "version": "3.7.6"
  },
  "interpreter": {
   "hash": "dca0ade3e726a953b501b15e8e990130d2b7799f14cfd9f4271676035ebe5511"
  }
 },
 "nbformat": 4,
 "nbformat_minor": 4
}