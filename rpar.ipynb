{
 "cells": [
  {
   "cell_type": "code",
   "execution_count": 1,
   "metadata": {},
   "outputs": [],
   "source": [
    "# pip install --user pandas numpy datetime scipy pandas_datareader yfinance\n",
    "\n",
    "import pandas as pd\n",
    "import datetime\n",
    "import rpar\n"
   ]
  },
  {
   "cell_type": "code",
   "execution_count": 2,
   "metadata": {},
   "outputs": [
    {
     "output_type": "stream",
     "name": "stdout",
     "text": [
      "[*********************100%***********************]  6 of 6 completed\n"
     ]
    }
   ],
   "source": [
    "# date range used for calculations\n",
    "start_date = datetime.datetime(2018, 4, 17)\n",
    "end_date = datetime.datetime(2021, 4, 14)\n",
    "\n",
    "# set up symbols that we like in our portfolio + min trading lot for each symbol\n",
    "yahoo_tickers = ['MAGN.ME','FIVE.ME','MTSS.ME','MRKP.ME','OGKB.ME','SNGSP.ME']\n",
    "min_lots = pd.DataFrame([1, 1, 10, 10000, 1000, 100], yahoo_tickers).T.iloc[0]\n",
    "\n",
    "prices = rpar.get_prices(yahoo_tickers, start_date, end_date)\n",
    "\n",
    "weights = rpar.get_weights(prices)\n",
    "\n",
    "capital = 300000\n",
    "assets = (capital * weights / prices.iloc[-1]).floordiv(min_lots)\n",
    "\n",
    "invested = assets * min_lots * prices.iloc[-1]\n",
    "residual = capital - invested.sum()"
   ]
  },
  {
   "cell_type": "code",
   "execution_count": 3,
   "metadata": {},
   "outputs": [
    {
     "output_type": "execute_result",
     "data": {
      "text/plain": [
       "FIVE.ME     0.127455\n",
       "MAGN.ME     0.148613\n",
       "MRKP.ME     0.152057\n",
       "MTSS.ME     0.198454\n",
       "OGKB.ME     0.122507\n",
       "SNGSP.ME    0.250915\n",
       "Name: weight, dtype: float64"
      ]
     },
     "metadata": {},
     "execution_count": 3
    }
   ],
   "source": [
    "weights"
   ]
  },
  {
   "cell_type": "code",
   "execution_count": 16,
   "metadata": {},
   "outputs": [
    {
     "data": {
      "text/plain": [
       "Symbols\n",
       "MAGN.ME     688.0\n",
       "FIVE.ME      16.0\n",
       "MTSS.ME      18.0\n",
       "MRKP.ME      18.0\n",
       "OGKB.ME      46.0\n",
       "SNGSP.ME     17.0\n",
       "dtype: float64"
      ]
     },
     "execution_count": 16,
     "metadata": {},
     "output_type": "execute_result"
    }
   ],
   "source": [
    "assets"
   ]
  },
  {
   "cell_type": "code",
   "execution_count": 17,
   "metadata": {},
   "outputs": [
    {
     "data": {
      "text/plain": [
       "Symbols\n",
       "MAGN.ME     44551.438110\n",
       "FIVE.ME     38118.835938\n",
       "MTSS.ME     56996.998901\n",
       "MRKP.ME     45377.998352\n",
       "OGKB.ME     36588.401079\n",
       "SNGSP.ME    72318.001556\n",
       "dtype: float64"
      ]
     },
     "execution_count": 17,
     "metadata": {},
     "output_type": "execute_result"
    }
   ],
   "source": [
    "invested"
   ]
  },
  {
   "cell_type": "code",
   "execution_count": 18,
   "metadata": {},
   "outputs": [
    {
     "data": {
      "text/plain": [
       "6048.326063156128"
      ]
     },
     "execution_count": 18,
     "metadata": {},
     "output_type": "execute_result"
    }
   ],
   "source": [
    "residual"
   ]
  },
  {
   "cell_type": "code",
   "execution_count": 19,
   "metadata": {},
   "outputs": [
    {
     "data": {
      "text/html": [
       "<div>\n",
       "<style scoped>\n",
       "    .dataframe tbody tr th:only-of-type {\n",
       "        vertical-align: middle;\n",
       "    }\n",
       "\n",
       "    .dataframe tbody tr th {\n",
       "        vertical-align: top;\n",
       "    }\n",
       "\n",
       "    .dataframe thead th {\n",
       "        text-align: right;\n",
       "    }\n",
       "</style>\n",
       "<table border=\"1\" class=\"dataframe\">\n",
       "  <thead>\n",
       "    <tr style=\"text-align: right;\">\n",
       "      <th></th>\n",
       "      <th>0</th>\n",
       "    </tr>\n",
       "    <tr>\n",
       "      <th>Symbols</th>\n",
       "      <th></th>\n",
       "    </tr>\n",
       "  </thead>\n",
       "  <tbody>\n",
       "    <tr>\n",
       "      <th>SNGSP.ME</th>\n",
       "      <td>72318.001556</td>\n",
       "    </tr>\n",
       "    <tr>\n",
       "      <th>MTSS.ME</th>\n",
       "      <td>56996.998901</td>\n",
       "    </tr>\n",
       "    <tr>\n",
       "      <th>MRKP.ME</th>\n",
       "      <td>45377.998352</td>\n",
       "    </tr>\n",
       "    <tr>\n",
       "      <th>MAGN.ME</th>\n",
       "      <td>44551.438110</td>\n",
       "    </tr>\n",
       "    <tr>\n",
       "      <th>FIVE.ME</th>\n",
       "      <td>38118.835938</td>\n",
       "    </tr>\n",
       "    <tr>\n",
       "      <th>OGKB.ME</th>\n",
       "      <td>36588.401079</td>\n",
       "    </tr>\n",
       "  </tbody>\n",
       "</table>\n",
       "</div>"
      ],
      "text/plain": [
       "                     0\n",
       "Symbols               \n",
       "SNGSP.ME  72318.001556\n",
       "MTSS.ME   56996.998901\n",
       "MRKP.ME   45377.998352\n",
       "MAGN.ME   44551.438110\n",
       "FIVE.ME   38118.835938\n",
       "OGKB.ME   36588.401079"
      ]
     },
     "execution_count": 19,
     "metadata": {},
     "output_type": "execute_result"
    }
   ],
   "source": [
    "pd.DataFrame(invested).sort_values(0, ascending=False)"
   ]
  }
 ],
 "metadata": {
  "kernelspec": {
   "name": "python3",
   "display_name": "Python 3.7.6 64-bit ('base': conda)"
  },
  "language_info": {
   "codemirror_mode": {
    "name": "ipython",
    "version": 3
   },
   "file_extension": ".py",
   "mimetype": "text/x-python",
   "name": "python",
   "nbconvert_exporter": "python",
   "pygments_lexer": "ipython3",
   "version": "3.7.6"
  },
  "interpreter": {
   "hash": "dca0ade3e726a953b501b15e8e990130d2b7799f14cfd9f4271676035ebe5511"
  }
 },
 "nbformat": 4,
 "nbformat_minor": 4
}